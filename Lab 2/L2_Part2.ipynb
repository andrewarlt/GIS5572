{
 "cells": [
  {
   "cell_type": "markdown",
   "metadata": {},
   "source": [
    "### Lab 2. QA/QC on Datasets"
   ]
  },
  {
   "cell_type": "code",
   "execution_count": 1,
   "metadata": {},
   "outputs": [],
   "source": [
    "import arcpy\n",
    "import numpy as np\n",
    "import pandas as pd\n",
    "\n",
    "import io\n",
    "import os\n",
    "import sys\n",
    "import json"
   ]
  },
  {
   "cell_type": "markdown",
   "metadata": {},
   "source": [
    "### Part 2. Clean and Prepare the Data"
   ]
  },
  {
   "cell_type": "code",
   "execution_count": 2,
   "metadata": {},
   "outputs": [
    {
     "name": "stdout",
     "output_type": "stream",
     "text": [
      "NLCD file found.\n",
      "BMSB file found.\n",
      "DEM file found.\n"
     ]
    }
   ],
   "source": [
    "# Verify the integrity of each file\n",
    "file_paths = {\n",
    "    \"NLCD\": r\"C:\\Users\\ethan\\Documents\\ArcGIS\\Projects\\MyProject2\\nlcd_mn_2019\\NLCD_2019_Land_Cover.tif\",\n",
    "    \"BMSB\": r\"C:\\Users\\ethan\\Documents\\ArcGIS\\Projects\\MyProject2\\brown_marmorated_stink_bug_mn.csv\",\n",
    "    \"DEM\": r\"C:\\Users\\ethan\\Documents\\ArcGIS\\Projects\\MyProject2\\30m_mn_elev\\elev_30m_digital_elevation_model.gdb\"\n",
    "}\n",
    "\n",
    "for file_name, path in file_paths.items():\n",
    "    if os.path.exists(path):\n",
    "        print(f\"{file_name} file found.\")\n",
    "    else:\n",
    "        print(f\"{file_name} file missing!\")"
   ]
  },
  {
   "cell_type": "markdown",
   "metadata": {},
   "source": [
    "### Initial Assessment of Data"
   ]
  },
  {
   "cell_type": "markdown",
   "metadata": {},
   "source": [
    "#### NCLD Data"
   ]
  },
  {
   "cell_type": "code",
   "execution_count": 23,
   "metadata": {},
   "outputs": [
    {
     "name": "stdout",
     "output_type": "stream",
     "text": [
      "Clipping Completed!\n"
     ]
    }
   ],
   "source": [
    "with arcpy.EnvManager(outputCoordinateSystem='PROJCS[\"NAD_1983_UTM_Zone_15N\",GEOGCS[\"GCS_North_American_1983\",DATUM[\"D_North_American_1983\",SPHEROID[\"GRS_1980\",6378137.0,298.257222101]],PRIMEM[\"Greenwich\",0.0],UNIT[\"Degree\",0.0174532925199433]],PROJECTION[\"Transverse_Mercator\"],PARAMETER[\"False_Easting\",500000.0],PARAMETER[\"False_Northing\",0.0],PARAMETER[\"Central_Meridian\",-93.0],PARAMETER[\"Scale_Factor\",0.9996],PARAMETER[\"Latitude_Of_Origin\",0.0],UNIT[\"Meter\",1.0]]'):\n",
    "    arcpy.management.Clip(\n",
    "        in_raster=\"NLCD_2019_Land_Cover.tif\",\n",
    "        rectangle=\"190687.908114248 4816425.97098429 758772.057946726 5471006.46677986\",\n",
    "        out_raster=r\"C:\\Users\\ethan\\Documents\\ArcGIS\\Projects\\MyProject2\\MyProject2.gdb\\NLCD_2019_Clip\",\n",
    "        in_template_dataset=\"USA States Generalized selection\",\n",
    "        nodata_value=\"255\",\n",
    "        clipping_geometry=\"ClippingGeometry\",\n",
    "        maintain_clipping_extent=\"MAINTAIN_EXTENT\"\n",
    "    )\n",
    "print(\"Clipping Completed!\")"
   ]
  },
  {
   "cell_type": "code",
   "execution_count": 24,
   "metadata": {},
   "outputs": [
    {
     "name": "stdout",
     "output_type": "stream",
     "text": [
      "Raster Path: C:\\Users\\ethan\\Documents\\ArcGIS\\Projects\\MyProject2\\MyProject2.gdb\n",
      "Raster Spatial Reference: NAD_1983_UTM_Zone_15N\n",
      "Raster Size: 18937 x 21820\n",
      "Count of NoData cells: 170029673\n"
     ]
    }
   ],
   "source": [
    "# Check raster\n",
    "nlcd_raster = r\"C:\\Users\\ethan\\Documents\\ArcGIS\\Projects\\MyProject2\\MyProject2.gdb\\NLCD_2019_Clip\"\n",
    "desc = arcpy.Describe(nlcd_raster)\n",
    "print(f\"Raster Path: {desc.path}\")\n",
    "print(f\"Raster Spatial Reference: {desc.spatialReference.name}\")\n",
    "print(f\"Raster Size: {desc.width} x {desc.height}\")\n",
    "\n",
    "# Check for no data values\n",
    "no_data_raster = arcpy.sa.IsNull(nlcd_raster)\n",
    "\n",
    "# Use the RasterToNumPyArray tool to convert the raster to an array\n",
    "no_data_array = arcpy.RasterToNumPyArray(no_data_raster)\n",
    "\n",
    "# Count the number of NoData cells (where the value is 1)\n",
    "no_data_count = np.count_nonzero(no_data_array == 1)\n",
    "print(f\"Count of NoData cells: {no_data_count}\")"
   ]
  },
  {
   "cell_type": "markdown",
   "metadata": {},
   "source": [
    "#### DEM Data"
   ]
  },
  {
   "cell_type": "code",
   "execution_count": 25,
   "metadata": {},
   "outputs": [
    {
     "name": "stdout",
     "output_type": "stream",
     "text": [
      "DEM Dataset Path: C:\\Users\\ethan\\Documents\\ArcGIS\\Projects\\MyProject2\\30m_mn_elev\\elev_30m_digital_elevation_model.gdb\n",
      "DEM Spatial Reference: NAD_1983_UTM_Zone_15N\n",
      "DEM Size: 19063 x 21871\n"
     ]
    }
   ],
   "source": [
    "# Check the DEM dataset\n",
    "dem_gdb_path = r\"C:\\Users\\ethan\\Documents\\ArcGIS\\Projects\\MyProject2\\30m_mn_elev\\elev_30m_digital_elevation_model.gdb\"\n",
    "dem_dataset = r\"digital_elevation_model_30m\"\n",
    "\n",
    "try:\n",
    "    dem_desc = arcpy.Describe(os.path.join(dem_gdb_path, dem_dataset))\n",
    "    print(f\"DEM Dataset Path: {dem_desc.path}\")\n",
    "    print(f\"DEM Spatial Reference: {dem_desc.spatialReference.name}\")\n",
    "    print(f\"DEM Size: {dem_desc.width} x {dem_desc.height}\")\n",
    "except Exception as e:\n",
    "    print(f\"Error describing DEM: {e}\")"
   ]
  },
  {
   "cell_type": "markdown",
   "metadata": {},
   "source": [
    "#### Check Raster Data Consistency"
   ]
  },
  {
   "cell_type": "code",
   "execution_count": 26,
   "metadata": {},
   "outputs": [
    {
     "name": "stdout",
     "output_type": "stream",
     "text": [
      "Coordinate systems match.\n"
     ]
    }
   ],
   "source": [
    "# Check coordinate system consistency between NLCD and DEM\n",
    "nlcd_sr = arcpy.Describe(nlcd_raster).spatialReference\n",
    "dem_sr = arcpy.Describe(os.path.join(dem_gdb_path, dem_dataset)).spatialReference\n",
    "\n",
    "if nlcd_sr.name == dem_sr.name:\n",
    "    print(\"Coordinate systems match.\")\n",
    "else:\n",
    "    print(f\"Mismatch: NLCD SR = {nlcd_sr.name}, DEM SR = {dem_sr.name}\")"
   ]
  },
  {
   "cell_type": "code",
   "execution_count": 27,
   "metadata": {
    "collapsed": true,
    "jupyter": {
     "outputs_hidden": true
    },
    "scrolled": true
   },
   "outputs": [
    {
     "name": "stdout",
     "output_type": "stream",
     "text": [
      "CSV loaded successfully.\n",
      "Columns: Index(['ID', 'Observed Date', 'Latitude', 'Longitude', 'Scientific Name',\n",
      "       'Common Name', 'Image URL', 'Location Description', 'Exact Location?',\n",
      "       'Obscured?', 'Accuracy (meters)', 'Count Observed'],\n",
      "      dtype='object')\n",
      "First few rows:           ID Observed Date   Latitude  Longitude    Scientific Name  \\\n",
      "0  264596414    2025-03-08  44.943124 -93.124529  Halyomorpha halys   \n",
      "1  263160449    2024-01-18  44.010008 -92.456489  Halyomorpha halys   \n",
      "2  262052201    2025-02-17  44.010681 -92.505242  Halyomorpha halys   \n",
      "3  261700994    2025-02-14  44.895863 -93.262520  Halyomorpha halys   \n",
      "4  260707725    2025-02-05  46.573231 -90.929597  Halyomorpha halys   \n",
      "\n",
      "                  Common Name  \\\n",
      "0  Brown Marmorated Stink Bug   \n",
      "1  Brown Marmorated Stink Bug   \n",
      "2  Brown Marmorated Stink Bug   \n",
      "3  Brown Marmorated Stink Bug   \n",
      "4  Brown Marmorated Stink Bug   \n",
      "\n",
      "                                           Image URL  \\\n",
      "0  https://inaturalist-open-data.s3.amazonaws.com...   \n",
      "1  https://inaturalist-open-data.s3.amazonaws.com...   \n",
      "2  https://inaturalist-open-data.s3.amazonaws.com...   \n",
      "3  https://inaturalist-open-data.s3.amazonaws.com...   \n",
      "4  https://inaturalist-open-data.s3.amazonaws.com...   \n",
      "\n",
      "                    Location Description  Exact Location?  Obscured?  \\\n",
      "0          Holly Ave, Saint Paul, MN, US            False      False   \n",
      "1        Fifth Ave SE, Rochester, MN, US            False      False   \n",
      "2  Hidden Ridge Ln SW, Rochester, MN, US            False      False   \n",
      "3       Chicago Ave, Minneapolis, MN, US            False      False   \n",
      "4                        Eileen, WI, USA            False      False   \n",
      "\n",
      "   Accuracy (meters)  Count Observed  \n",
      "0               20.0             NaN  \n",
      "1                6.0             NaN  \n",
      "2               13.0             NaN  \n",
      "3                5.0             NaN  \n",
      "4                NaN             NaN  \n",
      "Missing values in columns: ID                       0\n",
      "Observed Date            0\n",
      "Latitude                 0\n",
      "Longitude                0\n",
      "Scientific Name          0\n",
      "Common Name              0\n",
      "Image URL                0\n",
      "Location Description     0\n",
      "Exact Location?          0\n",
      "Obscured?                0\n",
      "Accuracy (meters)        6\n",
      "Count Observed          50\n",
      "dtype: int64\n"
     ]
    }
   ],
   "source": [
    "# Load the CSV for inspection\n",
    "bmsb_path = r\"C:\\Users\\ethan\\Documents\\ArcGIS\\Projects\\MyProject2\\brown_marmorated_stink_bug_mn_all_observations.csv\"\n",
    "try:\n",
    "    bmsb_data = pd.read_csv(bmsb_path)\n",
    "    print(\"CSV loaded successfully.\")\n",
    "    print(\"Columns:\", bmsb_data.columns)\n",
    "    print(\"First few rows:\", bmsb_data.head())\n",
    "except Exception as e:\n",
    "    print(f\"Error loading CSV: {e}\")\n",
    "\n",
    "# Check for missing or incorrect values\n",
    "missing_values = bmsb_data.isnull().sum()\n",
    "print(\"Missing values in columns:\", missing_values)"
   ]
  },
  {
   "cell_type": "markdown",
   "metadata": {},
   "source": [
    "### Assess Specific Data Aspects"
   ]
  },
  {
   "cell_type": "code",
   "execution_count": 4,
   "metadata": {
    "collapsed": true,
    "jupyter": {
     "outputs_hidden": true
    },
    "scrolled": true
   },
   "outputs": [
    {
     "name": "stdout",
     "output_type": "stream",
     "text": [
      "Defaulting to user installation because normal site-packages is not writeable\n",
      "Requirement already satisfied: rasterio in c:\\users\\ethan\\appdata\\roaming\\python\\python311\\site-packages (1.4.3)\n",
      "Requirement already satisfied: affine in c:\\users\\ethan\\appdata\\roaming\\python\\python311\\site-packages (from rasterio) (2.4.0)\n",
      "Requirement already satisfied: attrs in c:\\program files\\arcgis\\pro\\bin\\python\\envs\\arcgispro-py3\\lib\\site-packages (from rasterio) (23.1.0)\n",
      "Requirement already satisfied: certifi in c:\\program files\\arcgis\\pro\\bin\\python\\envs\\arcgispro-py3\\lib\\site-packages (from rasterio) (2024.8.30)\n",
      "Requirement already satisfied: click>=4.0 in c:\\program files\\arcgis\\pro\\bin\\python\\envs\\arcgispro-py3\\lib\\site-packages (from rasterio) (8.1.7)\n",
      "Requirement already satisfied: cligj>=0.5 in c:\\users\\ethan\\appdata\\roaming\\python\\python311\\site-packages (from rasterio) (0.7.2)\n",
      "Requirement already satisfied: numpy>=1.24 in c:\\program files\\arcgis\\pro\\bin\\python\\envs\\arcgispro-py3\\lib\\site-packages (from rasterio) (1.24.3)\n",
      "Requirement already satisfied: click-plugins in c:\\users\\ethan\\appdata\\roaming\\python\\python311\\site-packages (from rasterio) (1.1.1)\n",
      "Requirement already satisfied: pyparsing in c:\\program files\\arcgis\\pro\\bin\\python\\envs\\arcgispro-py3\\lib\\site-packages (from rasterio) (3.1.2)\n",
      "Requirement already satisfied: colorama in c:\\program files\\arcgis\\pro\\bin\\python\\envs\\arcgispro-py3\\lib\\site-packages (from click>=4.0->rasterio) (0.4.6)\n"
     ]
    }
   ],
   "source": [
    "!pip install rasterio"
   ]
  },
  {
   "cell_type": "code",
   "execution_count": 7,
   "metadata": {
    "scrolled": true
   },
   "outputs": [
    {
     "name": "stdout",
     "output_type": "stream",
     "text": [
      "\n",
      "Running QA/QC for DEM at C:\\Users\\ethan\\Documents\\ArcGIS\\Projects\\MyProject2\\30m_mn_elev\\elev_30m_digital_elevation_model.gdb\\digital_elevation_model_30m...\n",
      "\n",
      "No NoData value found for C:\\Users\\ethan\\Documents\\ArcGIS\\Projects\\MyProject2\\30m_mn_elev\\elev_30m_digital_elevation_model.gdb\\digital_elevation_model_30m\n",
      "C:\\Users\\ethan\\Documents\\ArcGIS\\Projects\\MyProject2\\30m_mn_elev\\elev_30m_digital_elevation_model.gdb\\digital_elevation_model_30m is in NAD83 UTM Zone 15N projection (EPSG: 26915).\n",
      "C:\\Users\\ethan\\Documents\\ArcGIS\\Projects\\MyProject2\\30m_mn_elev\\elev_30m_digital_elevation_model.gdb\\digital_elevation_model_30m is within expected range: Min=0, Max=2300\n",
      "Unique values in C:\\Users\\ethan\\Documents\\ArcGIS\\Projects\\MyProject2\\30m_mn_elev\\elev_30m_digital_elevation_model.gdb\\digital_elevation_model_30m: [   0  590  591 ... 2293 2297 2300]\n",
      "Duplicate cells in C:\\Users\\ethan\\Documents\\ArcGIS\\Projects\\MyProject2\\30m_mn_elev\\elev_30m_digital_elevation_model.gdb\\digital_elevation_model_30m: 1502\n",
      "Outliers detected in C:\\Users\\ethan\\Documents\\ArcGIS\\Projects\\MyProject2\\30m_mn_elev\\elev_30m_digital_elevation_model.gdb\\digital_elevation_model_30m: 0 outlier cells\n",
      "\n",
      "Running QA/QC for NLCD at C:\\Users\\ethan\\Documents\\ArcGIS\\Projects\\MyProject2\\nlcd_mn_2019\\NLCD_2019_Land_Cover.tif...\n",
      "\n",
      "Number of NoData cells in C:\\Users\\ethan\\Documents\\ArcGIS\\Projects\\MyProject2\\nlcd_mn_2019\\NLCD_2019_Land_Cover.tif: 497453340\n",
      "C:\\Users\\ethan\\Documents\\ArcGIS\\Projects\\MyProject2\\nlcd_mn_2019\\NLCD_2019_Land_Cover.tif is in NAD83 UTM Zone 15N projection (EPSG: 26915).\n",
      "Out of range values detected in C:\\Users\\ethan\\Documents\\ArcGIS\\Projects\\MyProject2\\nlcd_mn_2019\\NLCD_2019_Land_Cover.tif: Min=0, Max=255\n",
      "Unique values in C:\\Users\\ethan\\Documents\\ArcGIS\\Projects\\MyProject2\\nlcd_mn_2019\\NLCD_2019_Land_Cover.tif: [  0  11  21  22  23  24  31  41  42  43  52  71  81  82  90  95 255]\n",
      "Duplicate cells in C:\\Users\\ethan\\Documents\\ArcGIS\\Projects\\MyProject2\\nlcd_mn_2019\\NLCD_2019_Land_Cover.tif: 17\n",
      "\n",
      "Cleaning CSV data from C:\\Users\\ethan\\Documents\\ArcGIS\\Projects\\MyProject2\\brown_marmorated_stink_bug_mn.csv...\n",
      "\n",
      "Removed 50 rows with missing data from C:\\Users\\ethan\\Documents\\ArcGIS\\Projects\\MyProject2\\brown_marmorated_stink_bug_mn.csv\n",
      "Cleaned CSV saved to C:\\Users\\ethan\\Documents\\ArcGIS\\Projects\\MyProject2\\brown_marmorated_stink_bug_mn_cleaned.csv\n"
     ]
    }
   ],
   "source": [
    "# Set your workspace\n",
    "arcpy.env.workspace = \"C:\\\\Users\\\\ethan\\\\Documents\\\\ArcGIS\\\\Projects\\\\MyProject2\"\n",
    "\n",
    "# Define paths for your datasets\n",
    "dem_path = \"C:\\\\Users\\\\ethan\\\\Documents\\\\ArcGIS\\\\Projects\\\\MyProject2\\\\30m_mn_elev\\\\elev_30m_digital_elevation_model.gdb\\\\digital_elevation_model_30m\"\n",
    "nlcd_path = \"C:\\\\Users\\\\ethan\\\\Documents\\\\ArcGIS\\\\Projects\\\\MyProject2\\\\nlcd_mn_2019\\\\NLCD_2019_Land_Cover.tif\"\n",
    "bmsb_csv_path = \"C:\\\\Users\\\\ethan\\\\Documents\\\\ArcGIS\\\\Projects\\\\MyProject2\\\\brown_marmorated_stink_bug_mn.csv\"\n",
    "\n",
    "# 1) Check for NoData\n",
    "def check_nodata(raster_path):\n",
    "    raster = arcpy.Raster(raster_path)\n",
    "    band = arcpy.RasterToNumPyArray(raster)\n",
    "    \n",
    "    # Get NoData value from raster properties\n",
    "    nodata_value = raster.noDataValue\n",
    "    if nodata_value is not None:\n",
    "        # Count NoData cells\n",
    "        no_data_cells = np.sum(band == nodata_value)\n",
    "        print(f\"Number of NoData cells in {raster_path}: {no_data_cells}\")\n",
    "    else:\n",
    "        print(f\"No NoData value found for {raster_path}\")\n",
    "\n",
    "# 2) Verify Data Projection (NAD83 15N - EPSG: 26915)\n",
    "def check_projection(raster_path):\n",
    "    desc = arcpy.Describe(raster_path)\n",
    "    crs = desc.spatialReference\n",
    "    if crs.factoryCode == 26915:\n",
    "        print(f\"{raster_path} is in NAD83 UTM Zone 15N projection (EPSG: 26915).\")\n",
    "    else:\n",
    "        print(f\"{raster_path} is not in NAD83 UTM Zone 15N projection. It is in {crs.name} (EPSG: {crs.factoryCode}).\")\n",
    "\n",
    "# 3) Max/Min Check (DEM and NLCD)\n",
    "def check_min_max(raster_path, expected_min, expected_max):\n",
    "    raster = arcpy.Raster(raster_path)\n",
    "    band = arcpy.RasterToNumPyArray(raster)\n",
    "    min_value = np.nanmin(band)\n",
    "    max_value = np.nanmax(band)\n",
    "    if min_value < expected_min or max_value > expected_max:\n",
    "        print(f\"Out of range values detected in {raster_path}: Min={min_value}, Max={max_value}\")\n",
    "    else:\n",
    "        print(f\"{raster_path} is within expected range: Min={min_value}, Max={max_value}\")\n",
    "\n",
    "# 4) Duplicates Check (DEM and NLCD)\n",
    "def check_duplicates(raster_path):\n",
    "    raster = arcpy.Raster(raster_path)\n",
    "    band = arcpy.RasterToNumPyArray(raster)\n",
    "    unique_values, counts = np.unique(band, return_counts=True)\n",
    "    duplicate_count = np.sum(counts > 1)\n",
    "    print(f\"Unique values in {raster_path}: {unique_values}\")\n",
    "    print(f\"Duplicate cells in {raster_path}: {duplicate_count}\")\n",
    "\n",
    "# 5) Outlier Check (DEM)\n",
    "def check_outliers(raster_path, threshold=3):\n",
    "    raster = arcpy.Raster(raster_path)\n",
    "    band = arcpy.RasterToNumPyArray(raster)\n",
    "    \n",
    "    mean = np.mean(band)\n",
    "    std_dev = np.std(band)\n",
    "    \n",
    "    # Identify outliers using integer-safe comparison\n",
    "    outliers = np.where((band > mean + threshold * std_dev) | (band < mean - threshold * std_dev))\n",
    "    print(f\"Outliers detected in {raster_path}: {len(outliers[0])} outlier cells\")\n",
    "\n",
    "# 6) CSV: Remove Invalid or Missing Data\n",
    "def clean_csv(csv_path):\n",
    "    df = pd.read_csv(csv_path)\n",
    "    initial_row_count = len(df)\n",
    "    df_cleaned = df.dropna()  # Drop rows with any missing data\n",
    "    final_row_count = len(df_cleaned)\n",
    "    print(f\"Removed {initial_row_count - final_row_count} rows with missing data from {csv_path}\")\n",
    "    \n",
    "    # Optionally, drop columns with missing data\n",
    "    df_cleaned = df_cleaned.dropna(axis=1)\n",
    "    return df_cleaned\n",
    "\n",
    "# Running the full QA/QC pipeline for DEM, NLCD, and CSV\n",
    "def run_qaqc_pipeline():\n",
    "    # Run QA/QC for DEM\n",
    "    print(f\"\\nRunning QA/QC for DEM at {dem_path}...\\n\")\n",
    "    check_nodata(dem_path)\n",
    "    check_projection(dem_path)\n",
    "    check_min_max(dem_path, expected_min=-100, expected_max=5000)  # Example range for DEM\n",
    "    check_duplicates(dem_path)\n",
    "    check_outliers(dem_path)\n",
    "\n",
    "    # Run QA/QC for NLCD\n",
    "    print(f\"\\nRunning QA/QC for NLCD at {nlcd_path}...\\n\")\n",
    "    check_nodata(nlcd_path)\n",
    "    check_projection(nlcd_path)\n",
    "    check_min_max(nlcd_path, expected_min=0, expected_max=100)  # Example range for NLCD\n",
    "    check_duplicates(nlcd_path)\n",
    "\n",
    "    # Clean and check the CSV data for BMSB\n",
    "    print(f\"\\nCleaning CSV data from {bmsb_csv_path}...\\n\")\n",
    "    cleaned_csv = clean_csv(bmsb_csv_path)\n",
    "    cleaned_csv_filename = bmsb_csv_path.replace(\".csv\", \"_cleaned.csv\")\n",
    "    cleaned_csv.to_csv(cleaned_csv_filename, index=False)\n",
    "    print(f\"Cleaned CSV saved to {cleaned_csv_filename}\")\n",
    "\n",
    "# Example Usage\n",
    "run_qaqc_pipeline()"
   ]
  },
  {
   "cell_type": "markdown",
   "metadata": {},
   "source": [
    "#### Convert Rasters to Point"
   ]
  },
  {
   "cell_type": "markdown",
   "metadata": {},
   "source": [
    "##### NLCD to Point"
   ]
  },
  {
   "cell_type": "code",
   "execution_count": 2,
   "metadata": {},
   "outputs": [
    {
     "name": "stdout",
     "output_type": "stream",
     "text": [
      "✅ Raster resampled to 1 km successfully: nlcd_resampled_1km\n"
     ]
    }
   ],
   "source": [
    "# Convert the Raster Files to Points and Join the Fields from the Raster\n",
    "import arcpy\n",
    "import os\n",
    "\n",
    "# Set environment\n",
    "arcpy.env.workspace = r\"C:\\Users\\ethan\\Documents\\ArcGIS\\Projects\\MyProject2\\output.gdb\"\n",
    "arcpy.env.overwriteOutput = True\n",
    "\n",
    "# Input raster and output paths\n",
    "input_raster = r\"C:\\Users\\ethan\\Documents\\ArcGIS\\Projects\\MyProject2\\MyProject2.gdb\\NLCD_2019_Clip\"\n",
    "resampled_raster = \"nlcd_resampled_1km\"  # Name of the resampled raster\n",
    "output_points = \"nlcd_points_with_attributes_1km\"\n",
    "\n",
    "# RESAMPLE TO 1KM\n",
    "# Set the cell size to 1000 meters (1 km)\n",
    "cell_size = 1000\n",
    "arcpy.Resample_management(\n",
    "    input_raster, \n",
    "    resampled_raster, \n",
    "    cell_size, \n",
    "    \"NEAREST\"  # Nearest neighbor preserves categorical values\n",
    ")\n",
    "print(f\"✅ Raster resampled to 1 km successfully: {resampled_raster}\")"
   ]
  },
  {
   "cell_type": "code",
   "execution_count": 11,
   "metadata": {
    "jupyter": {
     "source_hidden": true
    }
   },
   "outputs": [
    {
     "name": "stdout",
     "output_type": "stream",
     "text": [
      "⚠️ Raster is not an integer type: U8. Consider reclassifying it.\n"
     ]
    }
   ],
   "source": [
    "# Force rebuild attribute table to ensure consistency\n",
    "desc = arcpy.Describe(resampled_raster)\n",
    "pixel_type = desc.pixelType  # Get the pixel type (e.g., 8_BIT_UNSIGNED, 32_BIT_FLOAT, etc.)\n",
    "\n",
    "# If the pixel type is integer (e.g., 8_BIT_UNSIGNED), it can have an attribute table\n",
    "if \"SIGNED\" in pixel_type or \"UNSIGNED\" in pixel_type:\n",
    "    print(f\"✅ Raster is integer type: {pixel_type}. Ready to proceed with attribute table.\")\n",
    "else:\n",
    "    print(f\"⚠️ Raster is not an integer type: {pixel_type}. Consider reclassifying it.\")"
   ]
  },
  {
   "cell_type": "code",
   "execution_count": 12,
   "metadata": {},
   "outputs": [
    {
     "data": {
      "text/html": [
       "<div class='gpresult'><h2 class='msg-title'>Messages</h2><div id='messages'>Start Time: Friday, March 21, 2025 11:54:07 AM<br>Succeeded at Friday, March 21, 2025 11:54:09 AM (Elapsed Time: 1.73 seconds)<br></div><div id = 'default' /></div></div>"
      ],
      "text/plain": [
       "<Result 'nlcd_resampled_1km'>"
      ]
     },
     "execution_count": 12,
     "metadata": {},
     "output_type": "execute_result"
    }
   ],
   "source": [
    "# Rebuild the attribute table if it's missing or if you're unsure\n",
    "arcpy.BuildRasterAttributeTable_management(resampled_raster, \"OVERWRITE\")"
   ]
  },
  {
   "cell_type": "code",
   "execution_count": 13,
   "metadata": {},
   "outputs": [
    {
     "name": "stdout",
     "output_type": "stream",
     "text": [
      "✅ Successfully joined fields: ['Count', 'Red', 'Green', 'Blue', 'Opacity', 'NLCD_Land']\n"
     ]
    }
   ],
   "source": [
    "# Join fields from the raster to the point feature class\n",
    "fields_to_join = [\"Count\", \"Red\", \"Green\", \"Blue\", \"Opacity\", \"NLCD_Land\"]\n",
    "\n",
    "arcpy.JoinField_management(\n",
    "    output_points,\n",
    "    \"GRID_CODE\",  # Point 'Value' field\n",
    "    resampled_raster,  # Raster table to join from\n",
    "    \"Value\",  # Matching field in the raster\n",
    "    fields_to_join  # Fields to join\n",
    ")\n",
    "\n",
    "print(f\"✅ Successfully joined fields: {fields_to_join}\")"
   ]
  },
  {
   "cell_type": "code",
   "execution_count": 14,
   "metadata": {},
   "outputs": [
    {
     "name": "stdout",
     "output_type": "stream",
     "text": [
      "✅ Resampled raster converted to points successfully!\n"
     ]
    }
   ],
   "source": [
    "# CONVERT RASTER TO POINTS\n",
    "# Convert resampled raster to points\n",
    "arcpy.RasterToPoint_conversion(resampled_raster, output_points, \"VALUE\")\n",
    "print(\"✅ Resampled raster converted to points successfully!\")"
   ]
  },
  {
   "cell_type": "code",
   "execution_count": 17,
   "metadata": {
    "jupyter": {
     "source_hidden": true
    }
   },
   "outputs": [
    {
     "name": "stdout",
     "output_type": "stream",
     "text": [
      "🎨 Available point fields: ['OBJECTID', 'Shape', 'pointid', 'grid_code']\n"
     ]
    }
   ],
   "source": [
    "# List available fields in raster attribute table\n",
    "point_fields = [f.name for f in arcpy.ListFields(output_points)]\n",
    "print(f\"🎨 Available point fields: {point_fields}\")"
   ]
  },
  {
   "cell_type": "code",
   "execution_count": 16,
   "metadata": {},
   "outputs": [
    {
     "name": "stdout",
     "output_type": "stream",
     "text": [
      "🔄 Building attribute table if needed...\n",
      "⚠️ Raster is not integer-based (pixel type: U8). Attribute table cannot be built.\n",
      "⚠️ No attribute table found. Skipping join.\n",
      "⚠️ Skipping attribute join due to missing attribute table.\n",
      "🎉 Points with 1 km resampled data and full attributes saved at: C:\\Users\\ethan\\Documents\\ArcGIS\\Projects\\MyProject2\\output.gdb\\nlcd_points_with_attributes_1km\n"
     ]
    }
   ],
   "source": [
    "# JOIN ALL ATTRIBUTES TO POINTS\n",
    "try:\n",
    "    print(\"🔄 Building attribute table if needed...\")\n",
    "\n",
    "    # Check raster type (integer or floating-point)\n",
    "    desc = arcpy.Describe(resampled_raster)\n",
    "    pixel_type = desc.pixelType\n",
    "\n",
    "    if \"SIGNED\" in pixel_type or \"UNSIGNED\" in pixel_type:  # Check if integer\n",
    "        # Build the attribute table if it's missing\n",
    "        arcpy.management.BuildRasterAttributeTable(resampled_raster, \"OVERWRITE\")\n",
    "        print(\"✅ Attribute table built successfully!\")\n",
    "    else:\n",
    "        print(f\"⚠️ Raster is not integer-based (pixel type: {pixel_type}). Attribute table cannot be built.\")\n",
    "    \n",
    "except Exception as e:\n",
    "    print(f\"⚠️ Attribute table could not be built: {e}\")\n",
    "\n",
    "# Check if attribute table exists\n",
    "if \"SIGNED\" in pixel_type or \"UNSIGNED\" in pixel_type:\n",
    "    # Proceed with the join\n",
    "    has_attribute_table = True\n",
    "    attribute_table = resampled_raster\n",
    "    print(f\"📝 Attribute table found. Ready to join fields!\")\n",
    "else:\n",
    "    has_attribute_table = False\n",
    "    print(\"⚠️ No attribute table found. Skipping join.\")\n",
    "\n",
    "# Join Attributes to Points\n",
    "if has_attribute_table:\n",
    "    fields_to_join = [\n",
    "        f.name for f in arcpy.ListFields(attribute_table)\n",
    "        if f.name not in (\"OBJECTID\", \"Value\", \"GRID_CODE\", \"Shape\")\n",
    "    ]\n",
    "\n",
    "    if fields_to_join:\n",
    "        arcpy.JoinField_management(\n",
    "            output_points,\n",
    "            \"GRID_CODE\",  # Point 'Value' field\n",
    "            attribute_table,\n",
    "            \"Value\",  # Matching field in the raster\n",
    "            fields_to_join\n",
    "        )\n",
    "        print(f\"✅ Successfully joined fields: {fields_to_join}\")\n",
    "    else:\n",
    "        print(\"⚠️ No additional fields to join.\")\n",
    "else:\n",
    "    print(\"⚠️ Skipping attribute join due to missing attribute table.\")\n",
    "\n",
    "print(f\"🎉 Points with 1 km resampled data and full attributes saved at: {os.path.join(arcpy.env.workspace, output_points)}\")"
   ]
  },
  {
   "cell_type": "markdown",
   "metadata": {},
   "source": [
    "##### DEM to Point"
   ]
  },
  {
   "cell_type": "code",
   "execution_count": 1,
   "metadata": {},
   "outputs": [
    {
     "name": "stdout",
     "output_type": "stream",
     "text": [
      "✅ Raster resampled to 1 km successfully: dem_resampled_1km\n"
     ]
    }
   ],
   "source": [
    "# Convert the Raster Files to Points and Join the Fields from the Raster\n",
    "import arcpy\n",
    "import os\n",
    "\n",
    "# Set environment\n",
    "arcpy.env.workspace = r\"C:\\Users\\ethan\\Documents\\ArcGIS\\Projects\\MyProject2\\output.gdb\"\n",
    "arcpy.env.overwriteOutput = True\n",
    "\n",
    "# Input raster and output paths\n",
    "input_raster = \"C:\\\\Users\\\\ethan\\\\Documents\\\\ArcGIS\\\\Projects\\\\MyProject2\\\\30m_mn_elev\\\\elev_30m_digital_elevation_model.gdb\\\\digital_elevation_model_30m\"\n",
    "resampled_raster = \"dem_resampled_1km\"  # Name of the resampled raster\n",
    "output_points = \"dem_points_with_attributes_1km\"\n",
    "\n",
    "# RESAMPLE TO 1KM\n",
    "# Set the cell size to 1000 meters (1 km)\n",
    "cell_size = 1000\n",
    "arcpy.Resample_management(\n",
    "    input_raster, \n",
    "    resampled_raster, \n",
    "    cell_size, \n",
    "    \"NEAREST\"  # Nearest neighbor preserves categorical values\n",
    ")\n",
    "print(f\"✅ Raster resampled to 1 km successfully: {resampled_raster}\")"
   ]
  },
  {
   "cell_type": "code",
   "execution_count": 2,
   "metadata": {
    "jupyter": {
     "source_hidden": true
    }
   },
   "outputs": [
    {
     "name": "stdout",
     "output_type": "stream",
     "text": [
      "⚠️ Raster is not an integer type: S16. Consider reclassifying it.\n"
     ]
    }
   ],
   "source": [
    "# Force rebuild attribute table to ensure consistency\n",
    "desc = arcpy.Describe(resampled_raster)\n",
    "pixel_type = desc.pixelType  # Get the pixel type (e.g., 8_BIT_UNSIGNED, 32_BIT_FLOAT, etc.)\n",
    "\n",
    "# If the pixel type is integer (e.g., 8_BIT_UNSIGNED), it can have an attribute table\n",
    "if \"SIGNED\" in pixel_type or \"UNSIGNED\" in pixel_type:\n",
    "    print(f\"✅ Raster is integer type: {pixel_type}. Ready to proceed with attribute table.\")\n",
    "else:\n",
    "    print(f\"⚠️ Raster is not an integer type: {pixel_type}. Consider reclassifying it.\")"
   ]
  },
  {
   "cell_type": "code",
   "execution_count": 3,
   "metadata": {},
   "outputs": [
    {
     "data": {
      "text/html": [
       "<div class='gpresult'><h2 class='msg-title'>Messages</h2><div id='messages'>Start Time: Friday, March 21, 2025 12:28:06 PM<br>Succeeded at Friday, March 21, 2025 12:28:08 PM (Elapsed Time: 1.48 seconds)<br></div><div id = 'default' /></div></div>"
      ],
      "text/plain": [
       "<Result 'dem_resampled_1km'>"
      ]
     },
     "execution_count": 3,
     "metadata": {},
     "output_type": "execute_result"
    }
   ],
   "source": [
    "# Rebuild the attribute table if it's missing or if you're unsure\n",
    "arcpy.BuildRasterAttributeTable_management(resampled_raster, \"OVERWRITE\")"
   ]
  },
  {
   "cell_type": "code",
   "execution_count": 4,
   "metadata": {},
   "outputs": [
    {
     "name": "stdout",
     "output_type": "stream",
     "text": [
      "✅ Resampled raster converted to points successfully!\n"
     ]
    }
   ],
   "source": [
    "# CONVERT RASTER TO POINTS\n",
    "# Convert resampled raster to points\n",
    "arcpy.RasterToPoint_conversion(resampled_raster, output_points, \"VALUE\")\n",
    "print(\"✅ Resampled raster converted to points successfully!\")"
   ]
  },
  {
   "cell_type": "markdown",
   "metadata": {},
   "source": [
    "### Part 3: Upload Data to Cloud Database"
   ]
  },
  {
   "cell_type": "code",
   "execution_count": null,
   "metadata": {},
   "outputs": [],
   "source": [
    "C:\\Users\\ethan\\Documents\\ArcGIS\\Projects\\MyProject2\\brown_marmorated_stink_bug_mn_cleaned.\n",
    "{cleaned_csv_filename}"
   ]
  },
  {
   "cell_type": "code",
   "execution_count": null,
   "metadata": {},
   "outputs": [],
   "source": [
    "# Use FeatureClassToFeatureClass to move data to PostgreSQL\n",
    "arcpy.FeatureClassToFeatureClass_conversion(\n",
    "    in_features=\"nlcd_points_with_attributes_1km\",  # Input feature class\n",
    "    out_path=r\"C:\\Users\\ethan\\Documents\\ArcGIS\\Projects\\MyProject2\\PostgreSQL-34-lab0(postgres).sde\",  # Output database path\n",
    "    out_name=\"nlcd_points\",  # Name of the feature class in the database\n",
    "    where_clause=\"\",  # Optional: add a WHERE clause for filtering\n",
    "    field_mapping='pointid \"pointid\" true true false 4 Long 0 0,First,#,nlcd_points_with_attributes_1km,pointid,-1,-1;grid_code \"grid_code\" true true false 4 Long 0 0,First,#,nlcd_points_with_attributes_1km,grid_code,-1,-1'\n",
    ")\n",
    "\n",
    "print(\"✅ Feature class successfully exported to PostgreSQL!\")"
   ]
  },
  {
   "cell_type": "code",
   "execution_count": null,
   "metadata": {},
   "outputs": [],
   "source": [
    "# Use FeatureClassToFeatureClass to move data to PostgreSQL\n",
    "arcpy.FeatureClassToFeatureClass_conversion(\n",
    "    in_features=\"dem_points_with_attributes_1km\",  # Input feature class\n",
    "    out_path=r\"C:\\Users\\ethan\\Documents\\ArcGIS\\Projects\\MyProject2\\PostgreSQL-34-lab0(postgres).sde\",  # Output database path\n",
    "    out_name=\"dem_points\",  # Name of the feature class in the database\n",
    "    where_clause=\"\",  # Optional: add a WHERE clause for filtering\n",
    "    field_mapping='pointid \"pointid\" true true false 4 Long 0 0,First,#,dem_points_with_attributes_1km,pointid,-1,-1;grid_code \"grid_code\" true true false 4 Long 0 0,First,#,dem_points_with_attributes_1km,grid_code,-1,-1'\n",
    ")\n",
    "\n",
    "print(\"✅ Feature class successfully exported to PostgreSQL!\")"
   ]
  },
  {
   "cell_type": "code",
   "execution_count": 1,
   "metadata": {},
   "outputs": [
    {
     "data": {
      "text/html": [
       "<div class='gpresult'><h2 class='msg-title'>Messages</h2><div id='messages'>Start Time: Friday, March 21, 2025 12:43:22 PM<br>Succeeded at Friday, March 21, 2025 12:43:26 PM (Elapsed Time: 4.39 seconds)<br></div><div id = 'default' /></div></div>"
      ],
      "text/plain": [
       "<Result 'C:\\\\Users\\\\ethan\\\\Documents\\\\ArcGIS\\\\Projects\\\\MyProject2\\\\MyProject2.gdb\\\\brown_marmorated_stink_bug_mn_XYTableToPoint'>"
      ]
     },
     "execution_count": 1,
     "metadata": {},
     "output_type": "execute_result"
    }
   ],
   "source": [
    "# Convert CSV to Point\n",
    "arcpy.management.XYTableToPoint(\n",
    "    in_table=r\"C:\\Users\\ethan\\Documents\\ArcGIS\\Projects\\MyProject2\\brown_marmorated_stink_bug_mn.csv\",\n",
    "    out_feature_class=r\"C:\\Users\\ethan\\Documents\\ArcGIS\\Projects\\MyProject2\\MyProject2.gdb\\brown_marmorated_stink_bug_mn_XYTableToPoint\",\n",
    "    x_field=\"Longitude\",\n",
    "    y_field=\"Latitude\",\n",
    "    z_field=None,\n",
    "    coordinate_system='GEOGCS[\"GCS_WGS_1984\",DATUM[\"D_WGS_1984\",SPHEROID[\"WGS_1984\",6378137.0,298.257223563]],PRIMEM[\"Greenwich\",0.0],UNIT[\"Degree\",0.0174532925199433]];-400 -400 1000000000;-100000 10000;-100000 10000;8.98315284119521E-09;0.001;0.001;IsHighPrecision'\n",
    ")"
   ]
  },
  {
   "cell_type": "code",
   "execution_count": 3,
   "metadata": {},
   "outputs": [
    {
     "name": "stdout",
     "output_type": "stream",
     "text": [
      "✅ Features successfully exported to PostgreSQL/PostGIS!\n"
     ]
    }
   ],
   "source": [
    "# Set the connection to your PostgreSQL database (make sure you have an SDE connection file)\n",
    "sde_connection = r\"C:\\Users\\ethan\\Documents\\ArcGIS\\Projects\\MyProject2\\PostgreSQL-34-lab0(postgres).sde\"\n",
    "\n",
    "# Define the output feature class name in the PostgreSQL database\n",
    "output_feature_class = \"observations.bmsb_mn_XYTableToPoint\"\n",
    "\n",
    "# Export features directly to PostgreSQL/PostGIS\n",
    "arcpy.FeatureClassToFeatureClass_conversion(\n",
    "    in_features=\"brown_marmorated_stink_bug_mn_XYTableToPoint\",  # Input feature class\n",
    "    out_path=sde_connection,  # Connection to your PostGIS database\n",
    "    out_name=output_feature_class,  # Name of the feature class in the database\n",
    "    where_clause=\"\",  \n",
    "    field_mapping='ID \"ID\" true true false 4 Long 0 0,First,#,brown_marmorated_stink_bug_mn_XYTableToPoint,ID,-1,-1;'\n",
    "                  'Observed_Date \"Observed Date\" true true false 8 DateOnly 0 0,First,#,brown_marmorated_stink_bug_mn_XYTableToPoint,Observed_Date,-1,-1;'\n",
    "                  'Latitude \"Latitude\" true true false 8 Double 0 0,First,#,brown_marmorated_stink_bug_mn_XYTableToPoint,Latitude,-1,-1;'\n",
    "                  'Longitude \"Longitude\" true true false 8 Double 0 0,First,#,brown_marmorated_stink_bug_mn_XYTableToPoint,Longitude,-1,-1;'\n",
    "                  'Scientific_Name \"Scientific Name\" true true false 8000 Text 0 0,First,#,brown_marmorated_stink_bug_mn_XYTableToPoint,Scientific_Name,0,7999;'\n",
    "                  'Common_Name \"Common Name\" true true false 8000 Text 0 0,First,#,brown_marmorated_stink_bug_mn_XYTableToPoint,Common_Name,0,7999;'\n",
    "                  'Image_URL \"Image URL\" true true false 8000 Text 0 0,First,#,brown_marmorated_stink_bug_mn_XYTableToPoint,Image_URL,0,7999;'\n",
    "                  'Location_Description \"Location Description\" true true false 8000 Text 0 0,First,#,brown_marmorated_stink_bug_mn_XYTableToPoint,Location_Description,0,7999;'\n",
    "                  'Exact_Location_ \"Exact Location?\" true true false 8000 Text 0 0,First,#,brown_marmorated_stink_bug_mn_XYTableToPoint,Exact_Location_,0,7999;'\n",
    "                  'Obscured_ \"Obscured?\" true true false 8000 Text 0 0,First,#,brown_marmorated_stink_bug_mn_XYTableToPoint,Obscured_,0,7999;'\n",
    "                  'Accuracy__meters_ \"Accuracy (meters)\" true true false 8 Double 0 0,First,#,brown_marmorated_stink_bug_mn_XYTableToPoint,Accuracy__meters_,-1,-1;'\n",
    "                  'Count_Observed \"Count Observed\" true true false 8000 Text 0 0,First,#,brown_marmorated_stink_bug_mn_XYTableToPoint,Count_Observed,0,7999'\n",
    ")\n",
    "\n",
    "print(\"✅ Features successfully exported to PostgreSQL/PostGIS!\")"
   ]
  },
  {
   "cell_type": "code",
   "execution_count": null,
   "metadata": {},
   "outputs": [],
   "source": []
  }
 ],
 "metadata": {
  "kernelspec": {
   "display_name": "ArcGISPro",
   "language": "python",
   "name": "python3"
  },
  "language_info": {
   "file_extension": ".py",
   "mimetype": "text/x-python",
   "name": "python",
   "version": "3.11.10"
  }
 },
 "nbformat": 4,
 "nbformat_minor": 4
}
