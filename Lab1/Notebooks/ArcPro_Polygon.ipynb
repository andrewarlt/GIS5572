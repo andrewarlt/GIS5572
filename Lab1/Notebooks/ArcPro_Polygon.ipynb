{
 "cells": [
  {
   "cell_type": "markdown",
   "metadata": {},
   "source": [
    "### Create Polygon using Arcpy Geometry Primitives"
   ]
  },
  {
   "cell_type": "code",
   "execution_count": 1,
   "metadata": {},
   "outputs": [],
   "source": [
    "import arcpy"
   ]
  },
  {
   "cell_type": "code",
   "execution_count": 4,
   "metadata": {},
   "outputs": [
    {
     "data": {
      "text/html": [
       "<div class='gpresult'><h2>Messages</h2><div id='messages' data-messages='[\"Start Time: Thursday, February 20, 2025 5:51:19 PM\",\"Succeeded at Thursday, February 20, 2025 5:51:42 PM (Elapsed Time: 22.53 seconds)\"]' data-show='true'><div id = 'default' /></div></div>"
      ],
      "text/plain": [
       "<Result 'D:\\\\Andrew_MGIS\\\\GIS5572\\\\PostgreSQL-34-lab0(postgres).sde\\\\poly_FC'>"
      ]
     },
     "execution_count": 4,
     "metadata": {},
     "output_type": "execute_result"
    }
   ],
   "source": [
    "# create Polygon\n",
    "arcpy.management.CreateFeatureclass(\n",
    "    out_path=r\"D:\\Andrew_MGIS\\GIS5572\\PostgreSQL-34-lab0(postgres).sde\",\n",
    "    out_name=\"poly_FC\", \n",
    "    spatial_reference=\"4326\"\n",
    ")"
   ]
  },
  {
   "cell_type": "code",
   "execution_count": 5,
   "metadata": {},
   "outputs": [],
   "source": [
    "# Polygon Point Information\n",
    "\n",
    "sr = arcpy.SpatialReference(4326)\n",
    "feature_info = [[(1, 4), (2, 3), (4, 7), (1, 6), (7, 9)]]\n",
    "features = []\n",
    "\n",
    "for feature in feature_info:\n",
    "    array = arcpy.Array([arcpy.Point(*coords) for coords in feature])\n",
    "    array.append(array[0])\n",
    "    \n",
    "    polygon = arcpy.Polygon(array, sr)\n",
    "    features.append(polygon)"
   ]
  },
  {
   "cell_type": "code",
   "execution_count": 10,
   "metadata": {
    "collapsed": true
   },
   "outputs": [
    {
     "ename": "RuntimeError",
     "evalue": "The operation is not supported by this implementation.",
     "output_type": "error",
     "traceback": [
      "\u001b[0;31m---------------------------------------------------------------------------\u001b[0m\n\u001b[0;31mRuntimeError\u001b[0m                              Traceback (most recent call last)",
      "In  \u001b[0;34m[10]\u001b[0m:\nLine \u001b[0;34m3\u001b[0m:     cursor.insertRow([polygon])\u001b[37m\u001b[39;49;00m\n",
      "\u001b[0;31mRuntimeError\u001b[0m: The operation is not supported by this implementation.\n\u001b[0;31m---------------------------------------------------------------------------\u001b[0m"
     ]
    }
   ],
   "source": [
    "# Add geometry\n",
    "with arcpy.da.InsertCursor('lab0.postgres.poly_FC_1', ['SHAPE@']) as cursor:\n",
    "    cursor.insertRow([polygon])"
   ]
  },
  {
   "cell_type": "code",
   "execution_count": 7,
   "metadata": {},
   "outputs": [],
   "source": [
    "# Select the Polygon\n",
    "cursor = arcpy.da.SearchCursor('lab0.postgres.poly_FC_1', 'SHAPE@')\n",
    "for element in cursor:\n",
    "    x = element\n",
    "    break"
   ]
  },
  {
   "cell_type": "code",
   "execution_count": 8,
   "metadata": {},
   "outputs": [
    {
     "data": {
      "image/svg+xml": [
       "<svg xmlns=\"http://www.w3.org/2000/svg\" xmlns:xlink=\"http://www.w3.org/1999/xlink\" width=\"100.0\" height=\"100.0\" viewBox=\"-100.04 39.9601220703125 1.0800000000000125 1.0799999999999983\" preserveAspectRatio=\"xMinYMin meet\"><g transform=\"matrix(1,0,0,-1,0,81.000244140625)\"><path fill-rule=\"evenodd\" fill=\"#66cc99\" stroke=\"#555555\" stroke-width=\"0.02160000000000025\" opacity=\"0.6\" d=\" M -100,40.0001220703125 L -99.5,41.0001220703125 L -99,40.5001220703125 L -100,40.0001220703125 z\" /></g></svg>"
      ],
      "text/plain": [
       "<Polygon object at 0x1e1187d4520[0x1e11899c990]>"
      ]
     },
     "execution_count": 8,
     "metadata": {},
     "output_type": "execute_result"
    }
   ],
   "source": [
    "# Visualize the Polygon\n",
    "geom = x[0]\n",
    "geom"
   ]
  },
  {
   "cell_type": "code",
   "execution_count": 9,
   "metadata": {},
   "outputs": [
    {
     "name": "stdout",
     "output_type": "stream",
     "text": [
      "MULTIPOLYGON (((1.0000000000000568 4.0000000000000568, 2.0000000000000568 3.0000000000000568, 3.5714285710000695 6.1428571430000716, 1.0000000000000568 4.0000000000000568)), ((3.5714285710000695 6.1428571430000716, 7.0000000000000568 9.0000000000000568, 1.0000000000000568 6.0000000000000568, 4.0000000000000568 7.0000000000000568, 3.5714285710000695 6.1428571430000716)))\n"
     ]
    }
   ],
   "source": [
    "# Convert the Polygon to WKT\n",
    "wkt = polygon.WKT\n",
    "print(wkt)"
   ]
  },
  {
   "cell_type": "markdown",
   "metadata": {
    "heading_collapsed": true
   },
   "source": [
    "### Post the Polygon to PostGIS Datbase"
   ]
  },
  {
   "cell_type": "code",
   "execution_count": 13,
   "metadata": {
    "hidden": true,
    "scrolled": true
   },
   "outputs": [
    {
     "data": {
      "text/html": [
       "<div class='gpresult'><h2>Messages</h2><div id='messages' data-messages='[\"Start Time: Thursday, February 20, 2025 6:04:58 PM\",\"Succeeded at Thursday, February 20, 2025 6:05:16 PM (Elapsed Time: 18.35 seconds)\"]' data-show='true'><div id = 'default' /></div></div>"
      ],
      "text/plain": [
       "<Result 'D:\\\\Andrew_MGIS\\\\GIS5572\\\\PostgreSQL-34-lab0(postgres).sde\\\\lab0.postgres.polygon_fc'>"
      ]
     },
     "execution_count": 13,
     "metadata": {},
     "output_type": "execute_result"
    }
   ],
   "source": [
    "arcpy.conversion.ExportFeatures(\n",
    "    in_features=\"polygon_fc\",\n",
    "    out_features=r\"D:\\Andrew_MGIS\\GIS5572\\PostgreSQL-34-lab0(postgres).sde\\lab0.postgres.polygon_fc\",\n",
    "    where_clause=\"\",\n",
    "    use_field_alias_as_name=\"NOT_USE_ALIAS\",\n",
    "    field_mapping='Shape_Length \"Shape_Length\" false true true 8 Double 0 0,First,#,polygon_fc,Shape_Length,-1,-1;Shape_Area \"Shape_Area\" false true true 8 Double 0 0,First,#,polygon_fc,Shape_Area,-1,-1',\n",
    "    sort_field=None\n",
    ")"
   ]
  },
  {
   "cell_type": "code",
   "execution_count": 30,
   "metadata": {
    "collapsed": true,
    "hidden": true
   },
   "outputs": [
    {
     "ename": "NameError",
     "evalue": "name 'psycopg2' is not defined",
     "output_type": "error",
     "traceback": [
      "\u001b[0;31m---------------------------------------------------------------------------\u001b[0m\n\u001b[0;31mNameError\u001b[0m                                 Traceback (most recent call last)",
      "In  \u001b[0;34m[30]\u001b[0m:\nLine \u001b[0;34m10\u001b[0m:    conn = psycopg2.connect(**conn_params)\u001b[37m\u001b[39;49;00m\n",
      "\u001b[0;31mNameError\u001b[0m: name 'psycopg2' is not defined\n\u001b[0;31m---------------------------------------------------------------------------\u001b[0m"
     ]
    }
   ],
   "source": [
    "# connect to db -change to run\n",
    "conn_params = {\n",
    "    \"host\": \"34.134.200.167\", \n",
    "    \"database\": \"lab0\",\n",
    "    \"user\": \"postgres\",\n",
    "    \"password\": \"Flyers7475!7475!\", \n",
    "    \"port\": \"5432\"\n",
    "}\n",
    "\n",
    "conn = psycopg2.connect(**conn_params)\n",
    "cursor = conn.cursor()"
   ]
  },
  {
   "cell_type": "code",
   "execution_count": null,
   "metadata": {
    "hidden": true
   },
   "outputs": [],
   "source": [
    "# sql command to create table\n",
    "create_table_query = \"\"\"\n",
    "    CREATE TABLE polygon (\n",
    "        id SERIAL PRIMARY KEY,\n",
    "        geom GEOMETRY(MULTIPOLYGON, 4326)\n",
    "    );\n",
    "\"\"\"\n",
    "\n",
    "# Execute query\n",
    "cursor.execute(create_table_query)\n",
    "conn.commit()\n",
    "print(\"Table 'polygon' created successfully.\")"
   ]
  },
  {
   "cell_type": "code",
   "execution_count": null,
   "metadata": {
    "hidden": true
   },
   "outputs": [],
   "source": [
    "# insert the polygon \n",
    "insert_query = \"\"\"\n",
    "    INSERT INTO polygon (geom)\n",
    "    VALUES (ST_GeomFromText(%s, 4326));\n",
    "\"\"\"\n",
    "cursor.execute(insert_query, (wkt,))\n",
    "conn.commit()\n",
    "\n",
    "# verify insertion\n",
    "cursor.execute(\"SELECT id, ST_AsText(geom) FROM polygon;\")\n",
    "rows = cursor.fetchall()\n",
    "for row in rows:\n",
    "    print(f\"ID: {row[0]}, Geometry: {row[1]}\")\n",
    "\n",
    "# close the connection\n",
    "cursor.close()\n",
    "conn.close()"
   ]
  }
 ],
 "metadata": {
  "kernelspec": {
   "display_name": "ArcGISPro",
   "language": "Python",
   "name": "python3"
  },
  "language_info": {
   "file_extension": ".py",
   "name": "python",
   "version": "3"
  }
 },
 "nbformat": 4,
 "nbformat_minor": 2
}
